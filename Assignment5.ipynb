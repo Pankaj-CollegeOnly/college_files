{
 "cells": [
  {
   "cell_type": "code",
   "execution_count": 6,
   "id": "59730161",
   "metadata": {},
   "outputs": [
    {
     "name": "stdout",
     "output_type": "stream",
     "text": [
      "awesxdrmjkl,kmjnhufrtdesw\n",
      "\n"
     ]
    }
   ],
   "source": [
    "# 1. Write a function in python to read the content from a text file \"poem.txt\" line by line and display the\n",
    "# same on screen.\n",
    "\n",
    "def readLine() :\n",
    "    myfile = open(\"poem.txt\",\"r\")\n",
    "    data = myfile.readlines()\n",
    "\n",
    "    for i in data :\n",
    "        print(i)\n",
    "    myfile.close()\n",
    "    \n",
    "readLine()"
   ]
  },
  {
   "cell_type": "code",
   "execution_count": 10,
   "id": "caca3166",
   "metadata": {},
   "outputs": [
    {
     "name": "stdout",
     "output_type": "stream",
     "text": [
      "no poem found\n",
      "\n"
     ]
    }
   ],
   "source": [
    "def secondtry() :\n",
    "    myfile = open(\"newFile.txt\",\"r\")\n",
    "    data = myfile.readlines()\n",
    "    \n",
    "    for i in data :\n",
    "        print(i)\n",
    "    \n",
    "    myfile.close()\n",
    "secondtry()"
   ]
  },
  {
   "cell_type": "code",
   "execution_count": 34,
   "id": "d7ebb02b",
   "metadata": {},
   "outputs": [
    {
     "name": "stdout",
     "output_type": "stream",
     "text": [
      "T\n",
      "\n",
      "T\n",
      "\n",
      "T\n",
      "\n",
      "TT\n",
      "\n",
      "4\n"
     ]
    }
   ],
   "source": [
    "# 2. Write a function in python to count the number of lines from a text file \"story.txt\" which is not starting\n",
    "# with an alphabet \"T\".\n",
    "\n",
    "def findingT() :\n",
    "    myfile = open(\"newFile.txt\",\"r\")\n",
    "    data = myfile.readlines()\n",
    "    cnt = 0\n",
    "    \n",
    "    for i in data :\n",
    "        if(i[0] == \"T\") :\n",
    "            cnt = cnt + 1\n",
    "          \n",
    "    print(cnt)\n",
    "       \n",
    "    myfile.close()\n",
    "    \n",
    "findingT()"
   ]
  },
  {
   "cell_type": "code",
   "execution_count": 53,
   "id": "2e0f2e0b",
   "metadata": {},
   "outputs": [
    {
     "name": "stdout",
     "output_type": "stream",
     "text": [
      "9\n"
     ]
    }
   ],
   "source": [
    "# 3. Write a function in Python to count and display the total number of words in a text file.\n",
    "\n",
    "def words() :\n",
    "    myfile = open(\"newFile.txt\", \"r\")\n",
    "    data = myfile.read()\n",
    "    splits = data.split()\n",
    "  \n",
    "    cnt = 0\n",
    "    for i in splits : \n",
    "        cnt = cnt+1\n",
    "        \n",
    "        \n",
    "    print(cnt)\n",
    "    myfile.close()\n",
    "    \n",
    "words()"
   ]
  },
  {
   "cell_type": "code",
   "execution_count": 57,
   "id": "a66ba232",
   "metadata": {},
   "outputs": [
    {
     "name": "stdout",
     "output_type": "stream",
     "text": [
      "1\n"
     ]
    }
   ],
   "source": [
    "# Write a function in Python to read lines from a text file \"notes.txt\". Your function should find and display\n",
    "# the occurrence of the word \"the\".\n",
    "\n",
    "def file() :\n",
    "    file = open(\"newFile.txt\",\"r\")\n",
    "    data = file.read()\n",
    "    splits = data.split()\n",
    "    cnt =0\n",
    "    \n",
    "    for i in splits :\n",
    "        if(i == \"this\") :\n",
    "            cnt = cnt+1\n",
    "    print(cnt)\n",
    "    \n",
    "file()"
   ]
  },
  {
   "cell_type": "code",
   "execution_count": 60,
   "id": "f9742fd4",
   "metadata": {},
   "outputs": [
    {
     "name": "stdout",
     "output_type": "stream",
     "text": [
      "3\n"
     ]
    }
   ],
   "source": [
    "# 5. Write a function display_words() in python to read lines from a text file \"story.txt\", and display those\n",
    "# words, which are less than 4 characters.\n",
    "\n",
    "def dsiplay_words() :\n",
    "    file = open(\"newFile.txt\", \"r\")\n",
    "    data = file.read()\n",
    "    splits = data.split()\n",
    "    cnt =0 \n",
    "    for i in splits :\n",
    "        if( len(i)< 4 ) :\n",
    "            cnt = cnt +1\n",
    "    print(cnt)\n",
    "    \n",
    "dsiplay_words()"
   ]
  },
  {
   "cell_type": "code",
   "execution_count": null,
   "id": "9205584c",
   "metadata": {},
   "outputs": [],
   "source": [
    "# 6. Write a function in Python to count the words \"this\" and \"these\" present in a text file \"article.txt\". [Note\n",
    "# that the words \"this\" and \"these\" are complete words]\n",
    "\n"
   ]
  }
 ],
 "metadata": {
  "kernelspec": {
   "display_name": "Python 3 (ipykernel)",
   "language": "python",
   "name": "python3"
  },
  "language_info": {
   "codemirror_mode": {
    "name": "ipython",
    "version": 3
   },
   "file_extension": ".py",
   "mimetype": "text/x-python",
   "name": "python",
   "nbconvert_exporter": "python",
   "pygments_lexer": "ipython3",
   "version": "3.11.6"
  }
 },
 "nbformat": 4,
 "nbformat_minor": 5
}
